{
 "cells": [
  {
   "cell_type": "markdown",
   "metadata": {},
   "source": [
    "# Optimisation Assignment"
   ]
  },
  {
   "cell_type": "markdown",
   "metadata": {},
   "source": [
    "### Group Members\n",
    "\n",
    "#### Sanchita Kasat - BT18CSE130\n",
    "#### Sanskruti Nakhale - BT18CSE015"
   ]
  },
  {
   "cell_type": "code",
   "execution_count": 1,
   "metadata": {},
   "outputs": [
    {
     "name": "stdout",
     "output_type": "stream",
     "text": [
      "Collecting goto-statement\n",
      "  Using cached goto_statement-1.2-py2.py3-none-any.whl (5.6 kB)\n",
      "Installing collected packages: goto-statement\n",
      "Successfully installed goto-statement-1.2\n",
      "Note: you may need to restart the kernel to use updated packages.\n"
     ]
    }
   ],
   "source": [
    "pip install goto-statement"
   ]
  },
  {
   "cell_type": "markdown",
   "metadata": {},
   "source": [
    "## Code Explaination"
   ]
  },
  {
   "cell_type": "markdown",
   "metadata": {},
   "source": [
    "I have written a three adress code for calculation of factorial which is this:\n",
    "1. f = 1\n",
    "2. i = 2 \n",
    "3. if(i > x) goto(9)\n",
    "4. t1 = f * i\n",
    "5. f = t1\n",
    "6. t2 = i + 1\n",
    "7. i = t2\n",
    "8. goto(3)\n",
    "9. End\n",
    "\n",
    "Features of my code:\n",
    "- The above code has jump statements so complete code is not a continuous basic block. So I have divided it into 4 basic blocks and done some local optimizations on the code.\n",
    "- I have printed the control flow graph of the algorithm with the help of control_flow_graph list in my code\n",
    "- I have also mentioned the unreachable code condition - There's a print statement which says \"I am unreachable\" and it is a part of the program but never gets printed because of the unconditional jump statements, thus that line of code is unreachable\n",
    "- My code recognizes if a natural loop is present or not which can be checked with varying inputs, like if I want factorial of 5 then Blocks 2 and 3 will run in a loop to calculate the answer and my code will detect that a natural loop is present there but if I want factorial of 1 then Block3 won't even be called so the code won't detect any loop\n",
    "- Whenever a block gets called I assign a rank to it such that all those blocks which are called initially have a higher rank and with the help of this rank I find out which block dominates other blocks and print my result"
   ]
  },
  {
   "cell_type": "code",
   "execution_count": 42,
   "metadata": {},
   "outputs": [
    {
     "name": "stdout",
     "output_type": "stream",
     "text": [
      "Enter number whose factorial you want to calculate: 5\n",
      "Factorial of 5 is 120\n",
      "\n",
      "['Natural loop is present between Block2 and Block3']\n",
      "\n",
      " Control Flow Graph : \n",
      "Block1\n",
      " Block2\n",
      "  Block3\n",
      " Block2\n",
      "  Block3\n",
      " Block2\n",
      "  Block3\n",
      " Block2\n",
      "  Block3\n",
      " Block2\n",
      "Block4\n",
      " \n",
      "Block1 dominates ['Block2', 'Block3', 'Block4']\n",
      " \n",
      "Block2 dominates ['Block3', 'Block4']\n",
      " \n",
      " \n"
     ]
    }
   ],
   "source": [
    "from goto import with_goto\n",
    "\n",
    "num:int\n",
    "control_flow_graph = []\n",
    "rank_list={}\n",
    "print_list = []\n",
    "\n",
    "@with_goto\n",
    "def fact(num):\n",
    "    \n",
    "    #Block 1\n",
    "    label .Block1\n",
    "    control_flow_graph.append(\"Block1\")\n",
    "    rank = 1\n",
    "    loop_occurence = 0\n",
    "    flag = 0\n",
    "    rank_list[\"Block1\"] = rank\n",
    "    f = 1       #stores factorial answer\n",
    "    i = 2       #counter\n",
    "\n",
    "    #Block 2\n",
    "    label .Block2\n",
    "    control_flow_graph.append(\" Block2\")\n",
    "    if loop_occurence == 0:\n",
    "        rank = rank + 1\n",
    "    else:\n",
    "        rank = rank - 1\n",
    "    rank_list[\"Block2\"] = rank\n",
    "    if (i > num): goto .Block4\n",
    "\n",
    "    #Block 3\n",
    "    label .Block3\n",
    "    control_flow_graph.append(\"  Block3\")\n",
    "    rank = rank + 1\n",
    "    rank_list[\"Block3\"] = rank\n",
    "    t1 = f * i\n",
    "    f = t1\n",
    "    t2 = i + 1         \n",
    "    i = t2\n",
    "    loop_occurence = 1\n",
    "    flag = flag + 1\n",
    "    if flag == 1:\n",
    "        print_list.append(\"Natural loop is present between Block2 and Block3\")\n",
    "    goto .Block2\n",
    "    #this print statement is present in the function but is still unreacheable code because of the unconditional jump to Block2\n",
    "    print (\"I am unreachable\")\n",
    "\n",
    "    #Block 4\n",
    "    label .Block4\n",
    "    rank = rank + 1\n",
    "    rank_list[\"Block4\"] = rank\n",
    "    control_flow_graph.append(\"Block4\")\n",
    "    return f\n",
    "    \n",
    "\n",
    "if __name__==\"__main__\":\n",
    "    \n",
    "    num = int(input(\"Enter number whose factorial you want to calculate: \"))\n",
    "    \n",
    "    f = fact(num)\n",
    "    print (\"Factorial of \"+str(num)+\" is \"+str(f))\n",
    "    print(\"\")\n",
    "    print(print_list)\n",
    "    \n",
    "    print(\"\\n Control Flow Graph : \")\n",
    "    for i in range(len(control_flow_graph)):\n",
    "        print(control_flow_graph[i])\n",
    "           \n",
    "    sorted(rank_list.items(), key = lambda kv:(kv[1], kv[0]))\n",
    "    \n",
    "    temp = list(rank_list)\n",
    "    for i in rank_list:\n",
    "        dom_list = []\n",
    "        for j in rank_list:\n",
    "            try:\n",
    "                if(rank_list[i] < rank_list[temp[temp.index(j)+1]]):\n",
    "                    dom_list.append(temp[temp.index(j)+1])\n",
    "            except:\n",
    "                print(\" \")\n",
    "        if dom_list:\n",
    "            print(i + \" dominates \",end=\"\")\n",
    "            print(dom_list)\n"
   ]
  },
  {
   "cell_type": "code",
   "execution_count": null,
   "metadata": {},
   "outputs": [],
   "source": []
  }
 ],
 "metadata": {
  "kernelspec": {
   "display_name": "Python 3",
   "language": "python",
   "name": "python3"
  },
  "language_info": {
   "codemirror_mode": {
    "name": "ipython",
    "version": 3
   },
   "file_extension": ".py",
   "mimetype": "text/x-python",
   "name": "python",
   "nbconvert_exporter": "python",
   "pygments_lexer": "ipython3",
   "version": "3.7.6"
  }
 },
 "nbformat": 4,
 "nbformat_minor": 4
}
